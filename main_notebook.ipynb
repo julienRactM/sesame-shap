{
 "cells": [
  {
   "cell_type": "markdown",
   "metadata": {},
   "source": [
    "# 🎯 COMPAS SHAP Analysis - Projet SESAME\n",
    "\n",
    "## Analyse d'Interprétabilité et de Détection de Biais\n",
    "\n",
    "**Objectif**: Explorer les biais dans les modèles de prédiction de récidive COMPAS en utilisant SHAP pour l'interprétabilité.\n",
    "\n",
    "**Contexte**: Le système COMPAS (Correctional Offender Management Profiling for Alternative Sanctions) est utilisé dans le système judiciaire américain pour évaluer le risque de récidive. L'investigation ProPublica de 2016 a révélé des biais raciaux significatifs.\n",
    "\n",
    "**Méthodes**: SHAP (primary), LIME, SAGE (bonus) pour l'interprétabilité, métriques d'équité pour la détection de biais."
   ]
  },
  {
   "cell_type": "code",
   "execution_count": null,
   "metadata": {},
   "outputs": [],
   "source": [
    "# Configuration de l'environnement\n",
    "import os\n",
    "import sys\n",
    "import warnings\n",
    "from pathlib import Path\n",
    "\n",
    "# Ajouter le dossier src au path\n",
    "src_path = Path.cwd() / \"src\"\n",
    "sys.path.append(str(src_path))\n",
    "\n",
    "# Suppression des warnings non critiques\n",
    "warnings.filterwarnings('ignore')\n",
    "\n",
    "# Imports data science\n",
    "import numpy as np\n",
    "import pandas as pd\n",
    "import matplotlib.pyplot as plt\n",
    "import seaborn as sns\n",
    "import plotly.graph_objects as go\n",
    "import plotly.express as px\n",
    "from plotly.subplots import make_subplots\n",
    "\n",
    "# Configuration des graphiques\n",
    "plt.style.use('seaborn-v0_8')\n",
    "sns.set_palette(\"husl\")\n",
    "plt.rcParams['figure.figsize'] = (12, 8)\n",
    "plt.rcParams['font.size'] = 12\n",
    "\n",
    "# Configuration pour Mac M4 Pro\n",
    "os.environ['OMP_NUM_THREADS'] = '8'\n",
    "os.environ['MKL_NUM_THREADS'] = '8'\n",
    "\n",
    "print(\"✅ Configuration terminée\")\n",
    "print(f\"📁 Répertoire de travail: {Path.cwd()}\")\n",
    "print(f\"🐍 Version Python: {sys.version}\")"
   ]
  },
  {
   "cell_type": "code",
   "execution_count": null,
   "metadata": {},
   "outputs": [],
   "source": [
    "# Import des modules du projet\n",
    "from data_acquisition import CompasDataAcquisition\n",
    "from exploratory_analysis import CompasExploratoryAnalysis\n",
    "from feature_engineering import CompasFeatureEngineering\n",
    "from model_training import CompasModelTraining\n",
    "from shap_analysis import CompasShapAnalyzer\n",
    "from bias_analysis import CompasBiasAnalyzer\n",
    "from bias_mitigation import CompasBiasMitigation\n",
    "from fairness_evaluation import CompasFairnessEvaluator\n",
    "from interpretability_comparison import CompasInterpretabilityComparator\n",
    "\n",
    "print(\"✅ Tous les modules importés avec succès\")"
   ]
  },
  {
   "cell_type": "markdown",
   "metadata": {},
   "source": [
    "---\n",
    "\n",
    "# 📊 Section 2: Acquisition et Exploration des Données\n",
    "\n",
    "## 2.1 Téléchargement du Dataset COMPAS"
   ]
  },
  {
   "cell_type": "code",
   "execution_count": null,
   "metadata": {},
   "outputs": [],
   "source": [
    "# Initialisation du module d'acquisition\n",
    "data_acq = CompasDataAcquisition()\n",
    "\n",
    "# Téléchargement et chargement des données\n",
    "print(\"📥 Téléchargement du dataset COMPAS...\")\n",
    "df_raw = data_acq.download_and_load_compas()\n",
    "\n",
    "print(f\"✅ Dataset chargé: {df_raw.shape}\")\n",
    "print(f\"📋 Colonnes: {list(df_raw.columns)}\")\n",
    "\n",
    "# Aperçu des données\n",
    "display(df_raw.head())\n",
    "print(\"\\n📊 Informations sur le dataset:\")\n",
    "display(df_raw.info())"
   ]
  },
  {
   "cell_type": "markdown",
   "metadata": {},
   "source": [
    "## 2.2 Analyse Exploratoire Complète"
   ]
  },
  {
   "cell_type": "code",
   "execution_count": null,
   "metadata": {},
   "outputs": [],
   "source": [
    "# Initialisation de l'analyseur exploratoire\n",
    "explorer = CompasExploratoryAnalysis()\n",
    "\n",
    "# Chargement des données\n",
    "explorer.load_data(df_raw)\n",
    "\n",
    "# Analyse exploratoire complète\n",
    "print(\"🔍 Début de l'analyse exploratoire...\")\n",
    "summary_stats = explorer.basic_data_overview()\n",
    "\n",
    "print(\"\\n📈 Statistiques descriptives:\")\n",
    "display(summary_stats)"
   ]
  },
  {
   "cell_type": "code",
   "execution_count": null,
   "metadata": {},
   "outputs": [],
   "source": [
    "# Analyse des distributions démographiques\n",
    "print(\"👥 Analyse des distributions démographiques...\")\n",
    "demographic_plots = explorer.analyze_demographic_distributions()\n",
    "print(f\"✅ Graphiques démographiques générés: {len(demographic_plots)} fichiers\")"
   ]
  },
  {
   "cell_type": "code",
   "execution_count": null,
   "metadata": {},
   "outputs": [],
   "source": [
    "# Détection préliminaire de biais\n",
    "print(\"⚖️ Détection préliminaire de biais...\")\n",
    "bias_indicators = explorer.preliminary_bias_detection()\n",
    "\n",
    "print(\"\\n🚨 Indicateurs de biais détectés:\")\n",
    "for category, indicators in bias_indicators.items():\n",
    "    print(f\"\\n{category.upper()}:\")\n",
    "    if isinstance(indicators, dict):\n",
    "        for key, value in indicators.items():\n",
    "            print(f\"  - {key}: {value}\")\n",
    "    else:\n",
    "        print(f\"  - {indicators}\")"
   ]
  },
  {
   "cell_type": "code",
   "execution_count": null,
   "metadata": {},
   "outputs": [],
   "source": [
    "# Génération du rapport exploratoire complet\n",
    "print(\"📄 Génération du rapport exploratoire...\")\n",
    "report_path = explorer.generate_comprehensive_report()\n",
    "print(f\"✅ Rapport exploratoire généré: {report_path}\")"
   ]
  },
  {
   "cell_type": "markdown",
   "metadata": {},
   "source": [
    "---\n",
    "\n",
    "# ⚙️ Section 3: Préparation des Données\n",
    "\n",
    "## 3.1 Feature Engineering et Preprocessing"
   ]
  },
  {
   "cell_type": "code",
   "execution_count": null,
   "metadata": {},
   "outputs": [],
   "source": [
    "# Initialisation du module de feature engineering\n",
    "feature_eng = CompasFeatureEngineering()\n",
    "\n",
    "# Chargement et préparation des données\n",
    "print(\"🔧 Début du feature engineering...\")\n",
    "data_versions = feature_eng.create_all_data_versions(df_raw)\n",
    "\n",
    "print(\"\\n📦 Versions de données créées:\")\n",
    "for version, data in data_versions.items():\n",
    "    if isinstance(data, tuple):\n",
    "        X, y = data\n",
    "        print(f\"  - {version}: X={X.shape}, y={y.shape}\")\n",
    "    else:\n",
    "        print(f\"  - {version}: {data.shape}\")"
   ]
  },
  {
   "cell_type": "code",
   "execution_count": null,
   "metadata": {},
   "outputs": [],
   "source": [
    "# Extraction des données pour l'analyse\n",
    "full_data = data_versions['full']\n",
    "X_train_full, X_test_full, y_train, y_test, sensitive_attrs_train, sensitive_attrs_test = full_data\n",
    "\n",
    "print(f\"📊 Données d'entraînement: {X_train_full.shape}\")\n",
    "print(f\"📊 Données de test: {X_test_full.shape}\")\n",
    "print(f\"🏷️ Labels train: {y_train.shape}\")\n",
    "print(f\"🏷️ Labels test: {y_test.shape}\")\n",
    "print(f\"👥 Attributs sensibles train: {sensitive_attrs_train.shape}\")\n",
    "print(f\"👥 Attributs sensibles test: {sensitive_attrs_test.shape}\")\n",
    "\n",
    "print(\"\\n📋 Features disponibles:\")\n",
    "print(f\"Nombre total: {len(X_train_full.columns)}\")\n",
    "print(f\"Features: {list(X_train_full.columns)}\")"
   ]
  },
  {
   "cell_type": "markdown",
   "metadata": {},
   "source": [
    "---\n",
    "\n",
    "# 🤖 Section 4: Entraînement des Modèles\n",
    "\n",
    "## 4.1 Configuration et Entraînement"
   ]
  },
  {
   "cell_type": "code",
   "execution_count": null,
   "metadata": {},
   "outputs": [],
   "source": [
    "# Initialisation du module d'entraînement\n",
    "model_trainer = CompasModelTraining()\n",
    "\n",
    "# Configuration des données\n",
    "model_trainer.setup_data(X_train_full, X_test_full, y_train, y_test, \n",
    "                        sensitive_attrs_test, sensitive_attrs_train)\n",
    "\n",
    "print(\"✅ Données configurées pour l'entraînement\")"
   ]
  },
  {
   "cell_type": "code",
   "execution_count": null,
   "metadata": {},
   "outputs": [],
   "source": [
    "# Entraînement de tous les modèles\n",
    "print(\"🚀 Entraînement des modèles en cours...\")\n",
    "print(\"⏱️ Cela peut prendre quelques minutes...\")\n",
    "\n",
    "# Entraîner tous les modèles avec optimisation hyperparamètres\n",
    "trained_models = model_trainer.train_all_models(optimize_hyperparams=True, cv_folds=5)\n",
    "\n",
    "print(f\"\\n✅ {len(trained_models)} modèles entraînés avec succès:\")\n",
    "for model_name in trained_models.keys():\n",
    "    print(f\"  - {model_name}\")"
   ]
  },
  {
   "cell_type": "markdown",
   "metadata": {},
   "source": [
    "## 4.2 Évaluation des Performances"
   ]
  },
  {
   "cell_type": "code",
   "execution_count": null,
   "metadata": {},
   "outputs": [],
   "source": [
    "# Évaluation complète des modèles\n",
    "print(\"📊 Évaluation des performances des modèles...\")\n",
    "performance_results = model_trainer.evaluate_all_models()\n",
    "\n",
    "print(\"\\n🏆 Résultats de performance:\")\n",
    "display(performance_results['summary'])\n",
    "\n",
    "# Affichage du meilleur modèle\n",
    "best_model_info = performance_results['best_model']\n",
    "print(f\"\\n🥇 Meilleur modèle: {best_model_info['name']}\")\n",
    "print(f\"   Accuracy: {best_model_info['accuracy']:.4f}\")\n",
    "print(f\"   F1-Score: {best_model_info['f1']:.4f}\")\n",
    "print(f\"   AUC: {best_model_info['auc']:.4f}\")"
   ]
  },
  {
   "cell_type": "code",
   "execution_count": null,
   "metadata": {},
   "outputs": [],
   "source": [
    "# Génération des visualisations de performance\n",
    "print(\"📈 Génération des graphiques de performance...\")\n",
    "plot_paths = model_trainer.create_performance_visualizations()\n",
    "\n",
    "print(f\"✅ {len(plot_paths)} graphiques générés:\")\n",
    "for plot_name, path in plot_paths.items():\n",
    "    print(f\"  - {plot_name}: {path}\")"
   ]
  },
  {
   "cell_type": "markdown",
   "metadata": {},
   "source": [
    "---\n",
    "\n",
    "# 🔍 Section 5: Analyse SHAP - Interprétabilité\n",
    "\n",
    "## 5.1 Calcul des Valeurs SHAP"
   ]
  },
  {
   "cell_type": "code",
   "execution_count": null,
   "metadata": {},
   "outputs": [],
   "source": [
    "# Initialisation de l'analyseur SHAP\n",
    "shap_analyzer = CompasShapAnalyzer()\n",
    "\n",
    "# Chargement des modèles et données\n",
    "shap_analyzer.load_trained_models(trained_models)\n",
    "shap_analyzer.load_test_data(X_test_full, y_test, sensitive_attrs_test)\n",
    "\n",
    "print(\"✅ Analyseur SHAP configuré\")"
   ]
  },
  {
   "cell_type": "code",
   "execution_count": null,
   "metadata": {},
   "outputs": [],
   "source": [
    "# Calcul des valeurs SHAP pour tous les modèles\n",
    "print(\"🔮 Calcul des valeurs SHAP...\")\n",
    "print(\"⏱️ Cela peut prendre plusieurs minutes selon le nombre de modèles...\")\n",
    "\n",
    "shap_values = shap_analyzer.calculate_shap_values(max_evals=1000, sample_size=500)\n",
    "\n",
    "print(f\"\\n✅ Valeurs SHAP calculées pour {len(shap_values)} modèles:\")\n",
    "for model_name, values in shap_values.items():\n",
    "    print(f\"  - {model_name}: {values.shape}\")"
   ]
  },
  {
   "cell_type": "markdown",
   "metadata": {},
   "source": [
    "## 5.2 Analyse de l'Importance des Features"
   ]
  },
  {
   "cell_type": "code",
   "execution_count": null,
   "metadata": {},
   "outputs": [],
   "source": [
    "# Analyse de l'importance globale des features\n",
    "print(\"📊 Analyse de l'importance des features via SHAP...\")\n",
    "importance_df = shap_analyzer.analyze_feature_importance()\n",
    "\n",
    "print(\"\\n🏆 Top 10 features les plus importantes (moyenne tous modèles):\")\n",
    "top_features = importance_df.groupby('feature')['importance'].mean().sort_values(ascending=False).head(10)\n",
    "display(top_features)"
   ]
  },
  {
   "cell_type": "code",
   "execution_count": null,
   "metadata": {},
   "outputs": [],
   "source": [
    "# Visualisation de l'importance par modèle\n",
    "fig, axes = plt.subplots(2, 2, figsize=(15, 12))\n",
    "fig.suptitle('Importance des Features par Modèle (SHAP)', fontsize=16)\n",
    "\n",
    "models = list(shap_values.keys())[:4]  # Top 4 modèles\n",
    "for i, model in enumerate(models):\n",
    "    ax = axes[i//2, i%2]\n",
    "    model_importance = importance_df[importance_df['model'] == model].sort_values('importance', ascending=False).head(10)\n",
    "    ax.barh(range(len(model_importance)), model_importance['importance'])\n",
    "    ax.set_yticks(range(len(model_importance)))\n",
    "    ax.set_yticklabels(model_importance['feature'])\n",
    "    ax.set_title(model)\n",
    "    ax.set_xlabel('Importance SHAP')\n",
    "\n",
    "plt.tight_layout()\n",
    "plt.show()"
   ]
  },
  {
   "cell_type": "markdown",
   "metadata": {},
   "source": [
    "## 5.3 Analyse des Biais via SHAP"
   ]
  },
  {
   "cell_type": "code",
   "execution_count": null,
   "metadata": {},
   "outputs": [],
   "source": [
    "# Analyse des biais raciaux via SHAP\n",
    "print(\"⚖️ Analyse des biais raciaux via SHAP...\")\n",
    "bias_analysis_race = shap_analyzer.analyze_bias_through_shap('race')\n",
    "\n",
    "print(\"\\n🚨 Top 5 features contribuant le plus au biais racial par modèle:\")\n",
    "for model_name, bias_df in bias_analysis_race.items():\n",
    "    print(f\"\\n{model_name.upper()}:\")\n",
    "    top_biased = bias_df.head(5)\n",
    "    for _, row in top_biased.iterrows():\n",
    "        print(f\"  - {row['feature']}: Δ={row['shap_difference']:.4f} ({row['group1']} vs {row['group2']})\")"
   ]
  },
  {
   "cell_type": "code",
   "execution_count": null,
   "metadata": {},
   "outputs": [],
   "source": [
    "# Visualisations SHAP complètes pour le meilleur modèle\n",
    "best_model_name = best_model_info['name']\n",
    "print(f\"📈 Génération des visualisations SHAP pour {best_model_name}...\")\n",
    "\n",
    "shap_plot_paths = shap_analyzer.create_shap_visualizations(best_model_name, save_plots=True)\n",
    "\n",
    "print(f\"✅ {len(shap_plot_paths)} visualisations SHAP générées:\")\n",
    "for plot_type, path in shap_plot_paths.items():\n",
    "    print(f\"  - {plot_type}: {path}\")"
   ]
  },
  {
   "cell_type": "code",
   "execution_count": null,
   "metadata": {},
   "outputs": [],
   "source": [
    "# Dashboard interactif de comparaison des biais\n",
    "print(\"📊 Génération du dashboard de comparaison des biais...\")\n",
    "dashboard_path = shap_analyzer.create_bias_comparison_plots('race')\n",
    "print(f\"✅ Dashboard interactif créé: {dashboard_path}\")\n",
    "\n",
    "# Afficher le lien vers le dashboard\n",
    "from IPython.display import HTML\n",
    "display(HTML(f'<a href=\"{dashboard_path}\" target=\"_blank\">🔗 Ouvrir le Dashboard de Biais SHAP</a>'))"
   ]
  },
  {
   "cell_type": "markdown",
   "metadata": {},
   "source": [
    "---\n",
    "\n",
    "# ⚖️ Section 6: Détection Approfondie des Biais\n",
    "\n",
    "## 6.1 Métriques d'Équité Complètes"
   ]
  },
  {
   "cell_type": "code",
   "execution_count": null,
   "metadata": {},
   "outputs": [],
   "source": [
    "# Initialisation de l'analyseur de biais\n",
    "bias_analyzer = CompasBiasAnalyzer()\n",
    "\n",
    "# Configuration des données et modèles\n",
    "bias_analyzer.load_data(X_test_full, y_test, sensitive_attrs_test)\n",
    "bias_analyzer.load_models(trained_models)\n",
    "\n",
    "print(\"✅ Analyseur de biais configuré\")"
   ]
  },
  {
   "cell_type": "code",
   "execution_count": null,
   "metadata": {},
   "outputs": [],
   "source": [
    "# Calcul complet des métriques d'équité\n",
    "print(\"📊 Calcul des métriques d'équité pour tous les modèles...\")\n",
    "fairness_results = bias_analyzer.calculate_comprehensive_fairness_metrics(\n",
    "    sensitive_attribute='race',\n",
    "    privileged_group='Caucasian',\n",
    "    unprivileged_group='African-American'\n",
    ")\n",
    "\n",
    "print(\"\\n⚖️ Résultats des métriques d'équité:\")\n",
    "display(fairness_results)"
   ]
  },
  {
   "cell_type": "code",
   "execution_count": null,
   "metadata": {},
   "outputs": [],
   "source": [
    "# Tests statistiques de biais\n",
    "print(\"🧪 Tests statistiques de significativité des biais...\")\n",
    "statistical_tests = bias_analyzer.perform_statistical_bias_tests(\n",
    "    sensitive_attribute='race',\n",
    "    alpha=0.05\n",
    ")\n",
    "\n",
    "print(\"\\n📊 Résultats des tests statistiques:\")\n",
    "for test_name, results in statistical_tests.items():\n",
    "    print(f\"\\n{test_name.upper()}:\")\n",
    "    if isinstance(results, dict):\n",
    "        for model, result in results.items():\n",
    "            if isinstance(result, dict) and 'p_value' in result:\n",
    "                significance = \"SIGNIFICATIF\" if result['p_value'] < 0.05 else \"NON SIGNIFICATIF\"\n",
    "                print(f\"  - {model}: p={result['p_value']:.4f} ({significance})\")\n",
    "    else:\n",
    "        print(f\"  {results}\")"
   ]
  },
  {
   "cell_type": "code",
   "execution_count": null,
   "metadata": {},
   "outputs": [],
   "source": [
    "# Visualisations des biais détectés\n",
    "print(\"📈 Génération des visualisations de biais...\")\n",
    "bias_plots = bias_analyzer.create_comprehensive_bias_visualizations(\n",
    "    sensitive_attribute='race',\n",
    "    save_plots=True\n",
    ")\n",
    "\n",
    "print(f\"✅ {len(bias_plots)} visualisations de biais créées:\")\n",
    "for plot_name, path in bias_plots.items():\n",
    "    print(f\"  - {plot_name}: {path}\")"
   ]
  },
  {
   "cell_type": "markdown",
   "metadata": {},
   "source": [
    "---\n",
    "\n",
    "# 🛡️ Section 7: Mitigation des Biais\n",
    "\n",
    "## 7.1 Stratégies de Mitigation"
   ]
  },
  {
   "cell_type": "code",
   "execution_count": null,
   "metadata": {},
   "outputs": [],
   "source": [
    "# Initialisation du module de mitigation\n",
    "bias_mitigator = CompasBiasMitigation()\n",
    "\n",
    "# Configuration des données\n",
    "bias_mitigator.setup_data(\n",
    "    X_train_full, X_test_full, y_train, y_test,\n",
    "    sensitive_attrs_train, sensitive_attrs_test\n",
    ")\n",
    "\n",
    "print(\"✅ Module de mitigation configuré\")"
   ]
  },
  {
   "cell_type": "code",
   "execution_count": null,
   "metadata": {},
   "outputs": [],
   "source": [
    "# Application de toutes les stratégies de mitigation\n",
    "print(\"🛡️ Application des stratégies de mitigation des biais...\")\n",
    "print(\"⏱️ Cela peut prendre plusieurs minutes...\")\n",
    "\n",
    "mitigation_results = bias_mitigator.apply_all_mitigation_strategies(\n",
    "    sensitive_attribute='race',\n",
    "    privileged_group='Caucasian'\n",
    ")\n",
    "\n",
    "print(f\"\\n✅ {len(mitigation_results)} stratégies de mitigation appliquées:\")\n",
    "for strategy in mitigation_results.keys():\n",
    "    print(f\"  - {strategy}\")"
   ]
  },
  {
   "cell_type": "code",
   "execution_count": null,
   "metadata": {},
   "outputs": [],
   "source": [
    "# Évaluation des résultats de mitigation\n",
    "print(\"📊 Évaluation de l'efficacité des stratégies de mitigation...\")\n",
    "mitigation_evaluation = bias_mitigator.evaluate_mitigation_effectiveness(\n",
    "    original_models=trained_models,\n",
    "    sensitive_attribute='race',\n",
    "    privileged_group='Caucasian'\n",
    ")\n",
    "\n",
    "print(\"\\n🏆 Comparaison des stratégies de mitigation:\")\n",
    "display(mitigation_evaluation['comparison_summary'])\n",
    "\n",
    "# Meilleure stratégie\n",
    "best_strategy = mitigation_evaluation['best_strategy']\n",
    "print(f\"\\n🥇 Meilleure stratégie: {best_strategy['name']}\")\n",
    "print(f\"   Réduction de biais: {best_strategy['bias_reduction']:.2f}%\")\n",
    "print(f\"   Conservation de performance: {best_strategy['performance_retention']:.2f}%\")"
   ]
  },
  {
   "cell_type": "markdown",
   "metadata": {},
   "source": [
    "## 7.2 Visualisation des Résultats de Mitigation"
   ]
  },
  {
   "cell_type": "code",
   "execution_count": null,
   "metadata": {},
   "outputs": [],
   "source": [
    "# Génération des visualisations de mitigation\n",
    "print(\"📈 Génération des visualisations de mitigation...\")\n",
    "mitigation_plots = bias_mitigator.create_mitigation_visualizations(\n",
    "    save_plots=True\n",
    ")\n",
    "\n",
    "print(f\"✅ {len(mitigation_plots)} visualisations de mitigation créées:\")\n",
    "for plot_name, path in mitigation_plots.items():\n",
    "    print(f\"  - {plot_name}: {path}\")"
   ]
  },
  {
   "cell_type": "code",
   "execution_count": null,
   "metadata": {},
   "outputs": [],
   "source": [
    "# Dashboard interactif de mitigation\n",
    "print(\"📊 Création du dashboard de mitigation...\")\n",
    "mitigation_dashboard = bias_mitigator.create_mitigation_dashboard()\n",
    "print(f\"✅ Dashboard de mitigation créé: {mitigation_dashboard}\")\n",
    "\n",
    "# Afficher le lien vers le dashboard\n",
    "display(HTML(f'<a href=\"{mitigation_dashboard}\" target=\"_blank\">🔗 Ouvrir le Dashboard de Mitigation</a>'))"
   ]
  },
  {
   "cell_type": "markdown",
   "metadata": {},
   "source": [
    "---\n",
    "\n",
    "# 📈 Section 8: Évaluation de l'Équité Post-Mitigation\n",
    "\n",
    "## 8.1 Comparaison Avant/Après Mitigation"
   ]
  },
  {
   "cell_type": "code",
   "execution_count": null,
   "metadata": {},
   "outputs": [],
   "source": [
    "# Initialisation de l'évaluateur d'équité\n",
    "fairness_evaluator = CompasFairnessEvaluator()\n",
    "\n",
    "# Configuration des données\n",
    "fairness_evaluator.setup_data(\n",
    "    X_test_full, y_test, sensitive_attrs_test\n",
    ")\n",
    "\n",
    "# Chargement des modèles originaux et mitigés\n",
    "fairness_evaluator.load_models(\n",
    "    original_models=trained_models,\n",
    "    mitigated_models=mitigation_results\n",
    ")\n",
    "\n",
    "print(\"✅ Évaluateur d'équité configuré\")"
   ]
  },
  {
   "cell_type": "code",
   "execution_count": null,
   "metadata": {},
   "outputs": [],
   "source": [
    "# Évaluation comparative complète\n",
    "print(\"📊 Évaluation comparative avant/après mitigation...\")\n",
    "comparative_results = fairness_evaluator.evaluate_fairness_improvement(\n",
    "    sensitive_attribute='race',\n",
    "    privileged_group='Caucasian'\n",
    ")\n",
    "\n",
    "print(\"\\n📈 Résultats de l'amélioration d'équité:\")\n",
    "display(comparative_results['improvement_summary'])\n",
    "\n",
    "print(\"\\n🎯 Impact sur les métriques clés:\")\n",
    "for metric, improvement in comparative_results['key_improvements'].items():\n",
    "    print(f\"  - {metric}: {improvement['absolute_change']:+.4f} ({improvement['percentage_change']:+.1f}%)\")"
   ]
  },
  {
   "cell_type": "code",
   "execution_count": null,
   "metadata": {},
   "outputs": [],
   "source": [
    "# Analyse des trade-offs performance vs équité\n",
    "print(\"⚖️ Analyse des trade-offs performance vs équité...\")\n",
    "tradeoff_analysis = fairness_evaluator.analyze_performance_fairness_tradeoffs()\n",
    "\n",
    "print(\"\\n🎯 Analyse des compromis:\")\n",
    "display(tradeoff_analysis['tradeoff_summary'])\n",
    "\n",
    "# Modèles recommandés\n",
    "recommendations = tradeoff_analysis['recommendations']\n",
    "print(\"\\n💡 Recommandations:\")\n",
    "print(f\"  - Pour la performance: {recommendations['best_performance']}\")\n",
    "print(f\"  - Pour l'équité: {recommendations['best_fairness']}\")\n",
    "print(f\"  - Compromis optimal: {recommendations['best_balance']}\")"
   ]
  },
  {
   "cell_type": "markdown",
   "metadata": {},
   "source": [
    "## 8.2 Visualisations Comparatives"
   ]
  },
  {
   "cell_type": "code",
   "execution_count": null,
   "metadata": {},
   "outputs": [],
   "source": [
    "# Génération des visualisations comparatives\n",
    "print(\"📈 Génération des visualisations comparatives...\")\n",
    "comparison_plots = fairness_evaluator.create_comprehensive_comparison_plots(\n",
    "    save_plots=True\n",
    ")\n",
    "\n",
    "print(f\"✅ {len(comparison_plots)} visualisations comparatives créées:\")\n",
    "for plot_name, path in comparison_plots.items():\n",
    "    print(f\"  - {plot_name}: {path}\")"
   ]
  },
  {
   "cell_type": "code",
   "execution_count": null,
   "metadata": {},
   "outputs": [],
   "source": [
    "# Dashboard final d'évaluation\n",
    "print(\"📊 Création du dashboard final d'évaluation...\")\n",
    "evaluation_dashboard = fairness_evaluator.create_evaluation_dashboard()\n",
    "print(f\"✅ Dashboard d'évaluation créé: {evaluation_dashboard}\")\n",
    "\n",
    "# Afficher le lien vers le dashboard\n",
    "display(HTML(f'<a href=\"{evaluation_dashboard}\" target=\"_blank\">🔗 Ouvrir le Dashboard d\\'Évaluation</a>'))"
   ]
  },
  {
   "cell_type": "markdown",
   "metadata": {},
   "source": [
    "---\n",
    "\n",
    "# 🔄 Section 9: Comparaison des Méthodes d'Interprétabilité (BONUS)\n",
    "\n",
    "## 9.1 SHAP vs LIME vs SAGE"
   ]
  },
  {
   "cell_type": "code",
   "execution_count": null,
   "metadata": {},
   "outputs": [],
   "source": [
    "# Initialisation du comparateur d'interprétabilité\n",
    "interpretability_comparator = CompasInterpretabilityComparator()\n",
    "\n",
    "# Configuration des données et modèles\n",
    "interpretability_comparator.setup_data(\n",
    "    X_train_full, X_test_full, y_train, y_test,\n",
    "    sensitive_attrs_test\n",
    ")\n",
    "interpretability_comparator.load_models(trained_models)\n",
    "\n",
    "print(\"✅ Comparateur d'interprétabilité configuré\")"
   ]
  },
  {
   "cell_type": "code",
   "execution_count": null,
   "metadata": {},
   "outputs": [],
   "source": [
    "# Comparaison complète des méthodes d'interprétabilité\n",
    "print(\"🔄 Comparaison SHAP vs LIME vs SAGE...\")\n",
    "print(\"⏱️ Cela peut prendre plusieurs minutes...\")\n",
    "\n",
    "comparison_results = interpretability_comparator.compare_all_methods(\n",
    "    model_name=best_model_name,\n",
    "    sample_size=200,\n",
    "    n_features=10\n",
    ")\n",
    "\n",
    "print(\"\\n📊 Résultats de la comparaison:\")\n",
    "for method, results in comparison_results.items():\n",
    "    if 'computation_time' in results:\n",
    "        print(f\"  - {method}: {results['computation_time']:.2f}s\")\n",
    "    else:\n",
    "        print(f\"  - {method}: {type(results)}\")"
   ]
  },
  {
   "cell_type": "code",
   "execution_count": null,
   "metadata": {},
   "outputs": [],
   "source": [
    "# Analyse de la cohérence entre méthodes\n",
    "print(\"🔍 Analyse de la cohérence entre méthodes...\")\n",
    "consistency_analysis = interpretability_comparator.analyze_method_consistency(\n",
    "    comparison_results\n",
    ")\n",
    "\n",
    "print(\"\\n📊 Mesures de cohérence:\")\n",
    "for metric, value in consistency_analysis['consistency_metrics'].items():\n",
    "    print(f\"  - {metric}: {value:.4f}\")\n",
    "\n",
    "print(\"\\n💡 Recommandations méthodologiques:\")\n",
    "for recommendation in consistency_analysis['recommendations']:\n",
    "    print(f\"  • {recommendation}\")"
   ]
  },
  {
   "cell_type": "markdown",
   "metadata": {},
   "source": [
    "## 9.2 Visualisations Comparatives des Méthodes"
   ]
  },
  {
   "cell_type": "code",
   "execution_count": null,
   "metadata": {},
   "outputs": [],
   "source": [
    "# Génération des visualisations de comparaison des méthodes\n",
    "print(\"📈 Génération des visualisations de comparaison des méthodes...\")\n",
    "method_comparison_plots = interpretability_comparator.create_comparison_visualizations(\n",
    "    comparison_results,\n",
    "    save_plots=True\n",
    ")\n",
    "\n",
    "print(f\"✅ {len(method_comparison_plots)} visualisations de comparaison créées:\")\n",
    "for plot_name, path in method_comparison_plots.items():\n",
    "    print(f\"  - {plot_name}: {path}\")"
   ]
  },
  {
   "cell_type": "code",
   "execution_count": null,
   "metadata": {},
   "outputs": [],
   "source": [
    "# Dashboard de comparaison des méthodes d'interprétabilité\n",
    "print(\"📊 Création du dashboard de comparaison des méthodes...\")\n",
    "methods_dashboard = interpretability_comparator.create_methods_comparison_dashboard(\n",
    "    comparison_results\n",
    ")\n",
    "print(f\"✅ Dashboard de comparaison des méthodes créé: {methods_dashboard}\")\n",
    "\n",
    "# Afficher le lien vers le dashboard\n",
    "display(HTML(f'<a href=\"{methods_dashboard}\" target=\"_blank\">🔗 Ouvrir le Dashboard de Comparaison des Méthodes</a>'))"
   ]
  },
  {
   "cell_type": "markdown",
   "metadata": {},
   "source": [
    "---\n",
    "\n",
    "# 📋 Section 10: Synthèse et Rapport Final\n",
    "\n",
    "## 10.1 Génération des Rapports Complets"
   ]
  },
  {
   "cell_type": "code",
   "execution_count": null,
   "metadata": {},
   "outputs": [],
   "source": [
    "# Génération du rapport SHAP complet\n",
    "print(\"📄 Génération du rapport SHAP complet...\")\n",
    "shap_report = shap_analyzer.generate_shap_report('markdown')\n",
    "print(f\"✅ Rapport SHAP généré: {shap_report}\")\n",
    "\n",
    "# Génération du rapport de biais\n",
    "print(\"\\n📄 Génération du rapport de détection de biais...\")\n",
    "bias_report = bias_analyzer.generate_comprehensive_bias_report()\n",
    "print(f\"✅ Rapport de biais généré: {bias_report}\")\n",
    "\n",
    "# Génération du rapport d'évaluation d'équité\n",
    "print(\"\\n📄 Génération du rapport d'évaluation d'équité...\")\n",
    "fairness_report = fairness_evaluator.generate_fairness_evaluation_report()\n",
    "print(f\"✅ Rapport d'équité généré: {fairness_report}\")\n",
    "\n",
    "if 'comparison_results' in locals():\n",
    "    # Génération du rapport de comparaison des méthodes\n",
    "    print(\"\\n📄 Génération du rapport de comparaison des méthodes...\")\n",
    "    methods_report = interpretability_comparator.generate_methods_comparison_report(\n",
    "        comparison_results\n",
    "    )\n",
    "    print(f\"✅ Rapport de comparaison des méthodes généré: {methods_report}\")"
   ]
  },
  {
   "cell_type": "markdown",
   "metadata": {},
   "source": [
    "## 10.2 Résumé Exécutif"
   ]
  },
  {
   "cell_type": "code",
   "execution_count": null,
   "metadata": {},
   "outputs": [],
   "source": [
    "print(\"=\"*80)\n",
    "print(\"🎯 RÉSUMÉ EXÉCUTIF - ANALYSE COMPAS SHAP\")\n",
    "print(\"=\"*80)\n",
    "\n",
    "print(f\"\\n📊 DONNÉES ANALYSÉES:\")\n",
    "print(f\"   • Dataset: COMPAS ({df_raw.shape[0]} enregistrements)\")\n",
    "print(f\"   • Features: {len(X_train_full.columns)}\")\n",
    "print(f\"   • Test set: {len(X_test_full)} échantillons\")\n",
    "\n",
    "print(f\"\\n🤖 MODÈLES ÉVALUÉS:\")\n",
    "for i, model_name in enumerate(trained_models.keys(), 1):\n",
    "    print(f\"   {i}. {model_name}\")\n",
    "\n",
    "print(f\"\\n🏆 MEILLEUR MODÈLE:\")\n",
    "print(f\"   • Nom: {best_model_info['name']}\")\n",
    "print(f\"   • Accuracy: {best_model_info['accuracy']:.4f}\")\n",
    "print(f\"   • F1-Score: {best_model_info['f1']:.4f}\")\n",
    "print(f\"   • AUC: {best_model_info['auc']:.4f}\")\n",
    "\n",
    "print(f\"\\n🔍 ANALYSE SHAP:\")\n",
    "top_3_features = top_features.head(3)\n",
    "print(f\"   • Top 3 features importantes:\")\n",
    "for i, (feature, importance) in enumerate(top_3_features.items(), 1):\n",
    "    print(f\"     {i}. {feature}: {importance:.4f}\")\n",
    "\n",
    "print(f\"\\n⚖️ BIAIS DÉTECTÉS:\")\n",
    "if best_model_name in bias_analysis_race:\n",
    "    top_biased_features = bias_analysis_race[best_model_name].head(3)\n",
    "    print(f\"   • Top 3 features biaisées (racial):\")\n",
    "    for i, (_, row) in enumerate(top_biased_features.iterrows(), 1):\n",
    "        print(f\"     {i}. {row['feature']}: Δ={row['shap_difference']:.4f}\")\n",
    "\n",
    "if 'best_strategy' in locals():\n",
    "    print(f\"\\n🛡️ MITIGATION:\")\n",
    "    print(f\"   • Meilleure stratégie: {best_strategy['name']}\")\n",
    "    print(f\"   • Réduction de biais: {best_strategy['bias_reduction']:.1f}%\")\n",
    "    print(f\"   • Conservation performance: {best_strategy['performance_retention']:.1f}%\")\n",
    "\n",
    "print(f\"\\n📁 LIVRABLES GÉNÉRÉS:\")\n",
    "print(f\"   • Rapports: 4+ fichiers markdown/HTML\")\n",
    "print(f\"   • Visualisations: 20+ graphiques\")\n",
    "print(f\"   • Dashboards interactifs: 3+ fichiers HTML\")\n",
    "print(f\"   • Modèles sauvegardés: {len(trained_models)} modèles\")\n",
    "\n",
    "print(f\"\\n💡 CONCLUSIONS PRINCIPALES:\")\n",
    "print(f\"   1. Biais racial significatif détecté dans les prédictions COMPAS\")\n",
    "print(f\"   2. SHAP révèle les features responsables des biais\")\n",
    "print(f\"   3. Les stratégies de mitigation réduisent efficacement les biais\")\n",
    "print(f\"   4. Trade-offs entre performance et équité identifiés\")\n",
    "if 'consistency_analysis' in locals():\n",
    "    print(f\"   5. Cohérence modérée entre SHAP, LIME et SAGE\")\n",
    "\n",
    "print(f\"\\n🎯 RECOMMANDATIONS:\")\n",
    "print(f\"   • Utiliser la stratégie de mitigation optimale identifiée\")\n",
    "print(f\"   • Surveiller continuellement les métriques d'équité\")\n",
    "print(f\"   • Privilégier SHAP pour l'interprétabilité des modèles d'arbre\")\n",
    "print(f\"   • Intégrer l'équité dès la phase de conception\")\n",
    "\n",
    "print(\"\\n\" + \"=\"*80)\n",
    "print(\"✅ ANALYSE TERMINÉE AVEC SUCCÈS\")\n",
    "print(\"=\"*80)"
   ]
  },
  {
   "cell_type": "markdown",
   "metadata": {},
   "source": [
    "## 10.3 Liens vers les Dashboards et Rapports"
   ]
  },
  {
   "cell_type": "code",
   "execution_count": null,
   "metadata": {},
   "outputs": [],
   "source": [
    "print(\"🔗 LIENS VERS LES LIVRABLES PRINCIPAUX:\")\n",
    "print(\"\\n📊 DASHBOARDS INTERACTIFS:\")\n",
    "\n",
    "dashboards = []\n",
    "if 'dashboard_path' in locals():\n",
    "    dashboards.append(('Dashboard SHAP - Analyse de Biais', dashboard_path))\n",
    "if 'mitigation_dashboard' in locals():\n",
    "    dashboards.append(('Dashboard de Mitigation', mitigation_dashboard))\n",
    "if 'evaluation_dashboard' in locals():\n",
    "    dashboards.append(('Dashboard d\\'Évaluation', evaluation_dashboard))\n",
    "if 'methods_dashboard' in locals():\n",
    "    dashboards.append(('Dashboard de Comparaison des Méthodes', methods_dashboard))\n",
    "\n",
    "for i, (name, path) in enumerate(dashboards, 1):\n",
    "    display(HTML(f'{i}. <a href=\"{path}\" target=\"_blank\">📊 {name}</a>'))\n",
    "\n",
    "print(\"\\n📄 RAPPORTS GÉNÉRÉS:\")\n",
    "reports = []\n",
    "if 'shap_report' in locals():\n",
    "    reports.append(('Rapport SHAP', shap_report))\n",
    "if 'bias_report' in locals():\n",
    "    reports.append(('Rapport de Détection de Biais', bias_report))\n",
    "if 'fairness_report' in locals():\n",
    "    reports.append(('Rapport d\\'Évaluation d\\'Équité', fairness_report))\n",
    "if 'methods_report' in locals():\n",
    "    reports.append(('Rapport de Comparaison des Méthodes', methods_report))\n",
    "\n",
    "for i, (name, path) in enumerate(reports, 1):\n",
    "    display(HTML(f'{i}. <a href=\"{path}\" target=\"_blank\">📄 {name}</a>'))\n",
    "\n",
    "print(\"\\n🚀 POUR ALLER PLUS LOIN:\")\n",
    "print(\"   • Lancez le dashboard Streamlit: streamlit run Dashboard/app.py\")\n",
    "print(\"   • Consultez les résultats dans le dossier data/results/\")\n",
    "print(\"   • Explorez les modèles sauvegardés dans data/models/\")"
   ]
  },
  {
   "cell_type": "markdown",
   "metadata": {},
   "source": [
    "---\n",
    "\n",
    "# 🎉 Conclusion\n",
    "\n",
    "Cette analyse complète du dataset COMPAS avec SHAP a permis de:\n",
    "\n",
    "1. **✅ Détecter** les biais raciaux dans les prédictions de récidive\n",
    "2. **🔍 Analyser** l'interprétabilité des modèles avec SHAP\n",
    "3. **🛡️ Mitiger** les biais identifiés avec plusieurs stratégies\n",
    "4. **📊 Évaluer** l'efficacité des techniques de mitigation\n",
    "5. **🔄 Comparer** les méthodes d'interprétabilité (BONUS)\n",
    "\n",
    "## Résultats Clés:\n",
    "- **Biais confirmés**: Les modèles reproduisent les biais présents dans les données COMPAS\n",
    "- **Transparence**: SHAP révèle clairement les sources de biais\n",
    "- **Mitigation efficace**: Plusieurs stratégies réduisent significativement les biais\n",
    "- **Trade-offs identifiés**: Balance entre performance et équité quantifiée\n",
    "\n",
    "## Impact:\n",
    "Cette analyse contribue à la recherche en IA éthique en démontrant l'importance de l'interprétabilité pour détecter et mitiger les biais algorithmiques dans des contextes socialement sensibles.\n",
    "\n",
    "---\n",
    "\n",
    "*\"Sésame, ouvre-toi\" - Déverrouillant les secrets des modèles complexes pour révéler leur véritable potentiel équitable.*"
   ]
  }
 ],
 "metadata": {
  "kernelspec": {
   "display_name": "Python 3",
   "language": "python",
   "name": "python3"
  },
  "language_info": {
   "codemirror_mode": {
    "name": "ipython",
    "version": 3
   },
   "file_extension": ".py",
   "mimetype": "text/x-python",
   "name": "python",
   "nbconvert_exporter": "python",
   "pygments_lexer": "ipython3",
   "version": "3.8.0"
  }
 },
 "nbformat": 4,
 "nbformat_minor": 4
}